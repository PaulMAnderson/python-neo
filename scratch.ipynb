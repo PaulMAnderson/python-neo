{
 "cells": [
  {
   "cell_type": "code",
   "execution_count": 1,
   "metadata": {
    "vscode": {
     "languageId": "python"
    }
   },
   "outputs": [],
   "source": [
    "import sys\n",
    "import os\n",
    "\n",
    "from matplotlib import pyplot as plt\n",
    "\n",
    "os.chdir('/home/paul/Documents/python-neo/')\n",
    "\n",
    "sys.path.append('.')  # Add current directory to path\n",
    "import neo\n",
    "# from neo.io.openephysbinaryio import *\n",
    "# from neo.rawio.openephysbinaryrawio import *\n",
    "\n",
    "rec_path = '/mnt/g/To Process/PMA97/PMA97 2025-03-13 Session 1/PMA97 2025-03-13_12-21-42 Opto Config 2'\n",
    "\n",
    "reader = neo.io.OpenEphysBinaryIO(rec_path)\n",
    "\n"
   ]
  },
  {
   "cell_type": "code",
   "execution_count": null,
   "metadata": {
    "vscode": {
     "languageId": "python"
    }
   },
   "outputs": [],
   "source": [
    "seg = reader.read_segment()\n",
    "seg"
   ]
  },
  {
   "cell_type": "code",
   "execution_count": null,
   "metadata": {
    "vscode": {
     "languageId": "python"
    }
   },
   "outputs": [],
   "source": [
    "blks = reader.read(lazy=False)\n",
    "print(blks)"
   ]
  }
 ],
 "metadata": {
  "language_info": {
   "name": "plaintext"
  }
 },
 "nbformat": 4,
 "nbformat_minor": 2
}
